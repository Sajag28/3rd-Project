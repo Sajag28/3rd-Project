{
  "nbformat": 4,
  "nbformat_minor": 0,
  "metadata": {
    "colab": {
      "provenance": [],
      "authorship_tag": "ABX9TyMik6wiWelNLAnkfweuuljB",
      "include_colab_link": true
    },
    "kernelspec": {
      "name": "python3",
      "display_name": "Python 3"
    },
    "language_info": {
      "name": "python"
    }
  },
  "cells": [
    {
      "cell_type": "markdown",
      "metadata": {
        "id": "view-in-github",
        "colab_type": "text"
      },
      "source": [
        "<a href=\"https://colab.research.google.com/github/Sajag28/3rd-Project/blob/main/Callbacks%20IN%20Tensorflow%20Neural%20Model.ipynb\" target=\"_parent\"><img src=\"https://colab.research.google.com/assets/colab-badge.svg\" alt=\"Open In Colab\"/></a>"
      ]
    },
    {
      "cell_type": "code",
      "execution_count": null,
      "metadata": {
        "id": "vw6WTrdQY5l6"
      },
      "outputs": [],
      "source": [
        "import os\n",
        "import matplotlib.pyplot as plt\n",
        "\n",
        "os.environ[\"TF_CPP_MIN_LOG_LEVEL\"]=\"2\"\n",
        "import tensorflow as tf\n",
        "from tensorflow import keras\n",
        "import tensorflow_datasets as tfds\n",
        "keras.layers=tf.keras.layers\n",
        "\n",
        "(ds_train,ds_test),ds_info=tfds.load(\n",
        "    \"mnist\",\n",
        "    split=[\"train\",\"test\"],\n",
        "    shuffle_files=True,\n",
        "    as_supervised=True,\n",
        "    with_info=True,\n",
        ")\n",
        "\n",
        "def normalize_img(image,label):\n",
        "  return tf.cast(image, tf.float32)/255.0,label\n",
        "\n",
        "AUTOTUNE=tf.data.experiumental.AUTOTUNE\n",
        "BATCH_SIZE=128\n",
        "\n",
        "ds_train=ds_train.map(normalize_img, num_parallel_calls=AUTOTUNE)\n",
        "ds_train=ds_train.cache()\n",
        "ds_train=ds_train.shuffle(ds_info.splits[\"train\"].num_examples)\n",
        "ds_train=ds_train.batch(BATCH_SIZE)\n",
        "ds_train=ds_train.fetch(AUTOTUNE)\n",
        "\n",
        "model.Sequential( [\n",
        "\n",
        "                  keras.Input((28,28,1)),\n",
        "                  keras.layers.Conv2D(32,3,activation=\"relu\"),\n",
        "                  keras.layers.Flatten(),\n",
        "                  keras.layers.Dense(10),\n",
        "])\n",
        "save_callback=keras.callbacks.ModelCheckpoint(\n",
        "    'checkpoint/',save_weoights_only=True,\n",
        "     monitor=\"accuracy\",\n",
        "     save_best_only=False,\n",
        "\n",
        ")\n",
        "\n",
        "def scheduler(epoch,lr):\n",
        "  if epoch<2:\n",
        "    return lr\n",
        "  else:\n",
        "    return lr * 0.99\n",
        "lr_scheduler=keras.callbacks.LearningRateScheduler(scheduler,verbose=1)\n",
        "model.compile(\n",
        "    optimizer=keras.optimizers.Adam(0.01),\n",
        "    loss=keras.losses.SparseCategoricalCrossentropy(from_logits=True),\n",
        "    metrics=[\"accuracy\"],\n",
        ")\n",
        "\n",
        "model.fit(ds_train,epochs=10,verbose=2,callbacks=[save_callbacks,lr_scheduler])\n"
      ]
    },
    {
      "cell_type": "code",
      "source": [],
      "metadata": {
        "id": "dwv0PtS4eARo"
      },
      "execution_count": null,
      "outputs": []
    }
  ]
}